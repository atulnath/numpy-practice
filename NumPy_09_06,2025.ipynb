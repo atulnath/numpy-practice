{
  "nbformat": 4,
  "nbformat_minor": 0,
  "metadata": {
    "colab": {
      "provenance": [],
      "authorship_tag": "ABX9TyOlH037Y/o/3kODbDFLIPPg",
      "include_colab_link": true
    },
    "kernelspec": {
      "name": "python3",
      "display_name": "Python 3"
    },
    "language_info": {
      "name": "python"
    }
  },
  "cells": [
    {
      "cell_type": "markdown",
      "metadata": {
        "id": "view-in-github",
        "colab_type": "text"
      },
      "source": [
        "<a href=\"https://colab.research.google.com/github/atulnath/numpy-practice/blob/main/NumPy_09_06%2C2025.ipynb\" target=\"_parent\"><img src=\"https://colab.research.google.com/assets/colab-badge.svg\" alt=\"Open In Colab\"/></a>"
      ]
    },
    {
      "cell_type": "markdown",
      "source": [
        "#Array Creation"
      ],
      "metadata": {
        "id": "X6Tg3egBXJUv"
      }
    },
    {
      "cell_type": "code",
      "source": [
        "import numpy as np\n",
        "\n",
        "# Python List to NumPy array\n",
        "\n",
        "nums = [x for x in range(5)]\n",
        "numpy_array = np.array(nums)\n",
        "\n",
        "print(numpy_array)"
      ],
      "metadata": {
        "colab": {
          "base_uri": "https://localhost:8080/"
        },
        "id": "oAwfSCRFXNDO",
        "outputId": "e247d867-c76c-4512-ee75-7a55ffa0052f"
      },
      "execution_count": 1,
      "outputs": [
        {
          "output_type": "stream",
          "name": "stdout",
          "text": [
            "[0 1 2 3 4]\n"
          ]
        }
      ]
    },
    {
      "cell_type": "code",
      "source": [
        "#Lets use directly\n",
        "\n",
        "numpy_array = np.array([x for x in range(5)])\n",
        "\n",
        "print(numpy_array)"
      ],
      "metadata": {
        "colab": {
          "base_uri": "https://localhost:8080/"
        },
        "id": "lobv8n5IYlEP",
        "outputId": "9773d087-d0fe-43b1-df66-a36e01da6953"
      },
      "execution_count": 2,
      "outputs": [
        {
          "output_type": "stream",
          "name": "stdout",
          "text": [
            "[0 1 2 3 4]\n"
          ]
        }
      ]
    },
    {
      "cell_type": "markdown",
      "source": [
        "## np zeros"
      ],
      "metadata": {
        "id": "J-5aC_arYsfm"
      }
    },
    {
      "cell_type": "code",
      "source": [
        "np_zeros_1D = np.zeros(5)\n",
        "np_zeros_2D = np.zeros([2,3])\n",
        "\n",
        "np_zeros_1D, np_zeros_2D"
      ],
      "metadata": {
        "colab": {
          "base_uri": "https://localhost:8080/"
        },
        "id": "V7zHXLiNYuzH",
        "outputId": "a0524064-c7f6-4b08-d252-3017dc68db14"
      },
      "execution_count": 5,
      "outputs": [
        {
          "output_type": "execute_result",
          "data": {
            "text/plain": [
              "(array([0., 0., 0., 0., 0.]),\n",
              " array([[0., 0., 0.],\n",
              "        [0., 0., 0.]]))"
            ]
          },
          "metadata": {},
          "execution_count": 5
        }
      ]
    },
    {
      "cell_type": "markdown",
      "source": [
        "##np arrange\n",
        "\n",
        "is like python range"
      ],
      "metadata": {
        "id": "SeFU4_w7ZWli"
      }
    },
    {
      "cell_type": "code",
      "source": [
        "val_0_5 = np.arange(5) # In python we write like range(5)\n",
        "val_1_9_step_1 = np.arange(1,6,1) # In python we write like range(1,6,1)\n",
        "\n",
        "val_0_5, val_1_9_step_1\n",
        ""
      ],
      "metadata": {
        "colab": {
          "base_uri": "https://localhost:8080/"
        },
        "id": "ogGHFTgWZcXm",
        "outputId": "0c03c4bb-bd73-42fa-eb21-a308e3c939bf"
      },
      "execution_count": 7,
      "outputs": [
        {
          "output_type": "execute_result",
          "data": {
            "text/plain": [
              "(array([0, 1, 2, 3, 4]), array([1, 2, 3, 4, 5]))"
            ]
          },
          "metadata": {},
          "execution_count": 7
        }
      ]
    },
    {
      "cell_type": "markdown",
      "source": [
        "##Random Rand"
      ],
      "metadata": {
        "id": "OwABFCkDaZyH"
      }
    },
    {
      "cell_type": "code",
      "source": [
        "# Lets create 5 random numbers\n",
        "\n",
        "random_array = np.random.rand(5)\n",
        "print(random_array)"
      ],
      "metadata": {
        "colab": {
          "base_uri": "https://localhost:8080/"
        },
        "id": "Q1kbbFYOadcH",
        "outputId": "1070c56f-6a3f-408d-de76-f17e56485b93"
      },
      "execution_count": 8,
      "outputs": [
        {
          "output_type": "stream",
          "name": "stdout",
          "text": [
            "[0.85761915 0.22328691 0.86003945 0.3477468  0.77015931]\n"
          ]
        }
      ]
    },
    {
      "cell_type": "markdown",
      "source": [
        "##Empty Array"
      ],
      "metadata": {
        "id": "Uwby1S5ibCKn"
      }
    },
    {
      "cell_type": "code",
      "source": [
        "# Empty are has garbage values when i define it\n",
        "# Normally it used to create array faster than random and later we overwrite\n",
        "\n",
        "\n",
        "empty_garabge_value_array = np.empty(5)\n",
        "print(empty_garabge_value_array)"
      ],
      "metadata": {
        "colab": {
          "base_uri": "https://localhost:8080/"
        },
        "id": "atVsLqYTcmIH",
        "outputId": "882a59c9-f429-4e34-900e-084190262354"
      },
      "execution_count": 10,
      "outputs": [
        {
          "output_type": "stream",
          "name": "stdout",
          "text": [
            "[0.85761915 0.22328691 0.86003945 0.3477468  0.77015931]\n"
          ]
        }
      ]
    },
    {
      "cell_type": "markdown",
      "source": [
        "##ND array"
      ],
      "metadata": {
        "id": "EKrntDlvegRx"
      }
    },
    {
      "cell_type": "code",
      "source": [
        "# 2D Numpy Array\n",
        "\n",
        "array_2D = np.array([[1,2,3],[4,5,6]])\n",
        "print(array_2D)"
      ],
      "metadata": {
        "colab": {
          "base_uri": "https://localhost:8080/"
        },
        "id": "cU3k7MKReimI",
        "outputId": "122b5373-6285-42d3-9da6-b5a468f9ee5c"
      },
      "execution_count": 11,
      "outputs": [
        {
          "output_type": "stream",
          "name": "stdout",
          "text": [
            "[[1 2 3]\n",
            " [4 5 6]]\n"
          ]
        }
      ]
    }
  ]
}