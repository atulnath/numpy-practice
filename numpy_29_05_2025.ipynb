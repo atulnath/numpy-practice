{
  "nbformat": 4,
  "nbformat_minor": 0,
  "metadata": {
    "colab": {
      "provenance": [],
      "authorship_tag": "ABX9TyNKi/6ZD9JCyRWBgkRLlyYI",
      "include_colab_link": true
    },
    "kernelspec": {
      "name": "python3",
      "display_name": "Python 3"
    },
    "language_info": {
      "name": "python"
    }
  },
  "cells": [
    {
      "cell_type": "markdown",
      "metadata": {
        "id": "view-in-github",
        "colab_type": "text"
      },
      "source": [
        "<a href=\"https://colab.research.google.com/github/atulnath/numpy-practice/blob/main/numpy_29_05_2025.ipynb\" target=\"_parent\"><img src=\"https://colab.research.google.com/assets/colab-badge.svg\" alt=\"Open In Colab\"/></a>"
      ]
    },
    {
      "cell_type": "code",
      "execution_count": 8,
      "metadata": {
        "colab": {
          "base_uri": "https://localhost:8080/"
        },
        "id": "28HcJMWMjivC",
        "outputId": "d36b8bb0-4a0f-4d75-d870-8698f00d117c"
      },
      "outputs": [
        {
          "output_type": "stream",
          "name": "stdout",
          "text": [
            "[1 2 3 4]\n",
            "[[1 2]\n",
            " [3 4]]\n",
            "[0, 1, 2, 3, 4]\n",
            "[0, 1, 2, 3, 4, 0, 1, 2, 3, 4]\n",
            "[2 4 6 8]\n"
          ]
        }
      ],
      "source": [
        "import numpy as np\n",
        "\n",
        "Array_1D = np.array([1,2,3,4])\n",
        "print(Array_1D)\n",
        "\n",
        "Array_2D = np.array([[1,2],[3,4]])\n",
        "print(Array_2D)\n",
        "\n",
        "#Normal python list\n",
        "\n",
        "listA= [i for i in range(5)]\n",
        "print(listA)\n",
        "\n",
        "print(listA*2) #double the list of items\n",
        "\n",
        "print(Array_1D*2) # it will multiply the elements by 2\n"
      ]
    },
    {
      "cell_type": "markdown",
      "source": [
        "# Zeros, Ones, #anyNumber array"
      ],
      "metadata": {
        "id": "2FwUh2YSkxAI"
      }
    },
    {
      "cell_type": "code",
      "source": [
        "zeros= np.zeros((3,4)) # 3 rows and 4 cols\n",
        "\n",
        "print(zeros)\n",
        "\n",
        "ones = np.ones((3,4))\n",
        "print(ones)\n",
        "\n",
        "seven = np.full((3,4),7)\n",
        "print(seven)"
      ],
      "metadata": {
        "colab": {
          "base_uri": "https://localhost:8080/"
        },
        "id": "4hOPD8V-k5XP",
        "outputId": "a8c65a3e-2a4c-4f5d-83cf-e9a9c370fb75"
      },
      "execution_count": 13,
      "outputs": [
        {
          "output_type": "stream",
          "name": "stdout",
          "text": [
            "[[0. 0. 0. 0.]\n",
            " [0. 0. 0. 0.]\n",
            " [0. 0. 0. 0.]]\n",
            "[[1. 1. 1. 1.]\n",
            " [1. 1. 1. 1.]\n",
            " [1. 1. 1. 1.]]\n",
            "[[7 7 7 7]\n",
            " [7 7 7 7]\n",
            " [7 7 7 7]]\n"
          ]
        }
      ]
    },
    {
      "cell_type": "markdown",
      "source": [
        "#Random"
      ],
      "metadata": {
        "id": "4oPcRLlRlnFw"
      }
    },
    {
      "cell_type": "code",
      "source": [
        "random_val= np.random.random((2,3))\n",
        "\n",
        "print(random_val)\n",
        "\n",
        "#sequence\n",
        "sq = np.arange(0,10,2)\n",
        "\n",
        "print(sq)"
      ],
      "metadata": {
        "colab": {
          "base_uri": "https://localhost:8080/"
        },
        "id": "BAmzQPPTlqrR",
        "outputId": "946e212f-1e4d-4c3c-e0d8-58df20df6938"
      },
      "execution_count": 15,
      "outputs": [
        {
          "output_type": "stream",
          "name": "stdout",
          "text": [
            "[[0.62052119 0.43313952 0.47815904]\n",
            " [0.26113784 0.67178198 0.09908957]]\n",
            "[0 2 4 6 8]\n"
          ]
        }
      ]
    },
    {
      "cell_type": "markdown",
      "source": [
        "#vector, mat, tensor"
      ],
      "metadata": {
        "id": "QHTDthoDnJdy"
      }
    },
    {
      "cell_type": "code",
      "source": [
        "#Vector\n",
        "Array_1D = np.array([1,2,3,4])\n",
        "print(Array_1D)\n",
        "#matrix\n",
        "Array_2D = np.array([[1,2],[3,4]])\n",
        "print(Array_2D)\n",
        "#more than it is called tensor\n",
        "Array_ND = np.array([[[1,2],[3,4]],[[5,6],[7,8]]])\n",
        "print(Array_ND)"
      ],
      "metadata": {
        "colab": {
          "base_uri": "https://localhost:8080/"
        },
        "id": "hrVVuNs9nM2X",
        "outputId": "26cb5fbc-5e81-4335-cc9d-7d754e8825d6"
      },
      "execution_count": 16,
      "outputs": [
        {
          "output_type": "stream",
          "name": "stdout",
          "text": [
            "[1 2 3 4]\n",
            "[[1 2]\n",
            " [3 4]]\n",
            "[[[1 2]\n",
            "  [3 4]]\n",
            "\n",
            " [[5 6]\n",
            "  [7 8]]]\n"
          ]
        }
      ]
    }
  ]
}