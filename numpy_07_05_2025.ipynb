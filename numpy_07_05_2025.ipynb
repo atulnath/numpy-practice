{
  "nbformat": 4,
  "nbformat_minor": 0,
  "metadata": {
    "colab": {
      "provenance": [],
      "authorship_tag": "ABX9TyO2WusZllqNjQOgJogPfVpn",
      "include_colab_link": true
    },
    "kernelspec": {
      "name": "python3",
      "display_name": "Python 3"
    },
    "language_info": {
      "name": "python"
    }
  },
  "cells": [
    {
      "cell_type": "markdown",
      "metadata": {
        "id": "view-in-github",
        "colab_type": "text"
      },
      "source": [
        "<a href=\"https://colab.research.google.com/github/atulnath/numpy-practice/blob/main/numpy_07_05_2025.ipynb\" target=\"_parent\"><img src=\"https://colab.research.google.com/assets/colab-badge.svg\" alt=\"Open In Colab\"/></a>"
      ]
    },
    {
      "cell_type": "code",
      "source": [
        "import numpy as np"
      ],
      "metadata": {
        "id": "zTVGrT-XG0l4"
      },
      "execution_count": 1,
      "outputs": []
    },
    {
      "cell_type": "markdown",
      "source": [
        "01. 1D array values: 0-9"
      ],
      "metadata": {
        "id": "GamOWQ6dGnOY"
      }
    },
    {
      "cell_type": "code",
      "execution_count": 2,
      "metadata": {
        "colab": {
          "base_uri": "https://localhost:8080/"
        },
        "id": "bJqsEdUrGf2_",
        "outputId": "d0c31951-f280-4793-d23f-a60e3e76a4a7"
      },
      "outputs": [
        {
          "output_type": "execute_result",
          "data": {
            "text/plain": [
              "array([0, 1, 2, 3, 4, 5, 6, 7, 8, 9])"
            ]
          },
          "metadata": {},
          "execution_count": 2
        }
      ],
      "source": [
        "arr_0_9=np.arange(10)\n",
        "arr_0_9"
      ]
    },
    {
      "cell_type": "markdown",
      "source": [
        "2.  Full Array (3,3) with true values"
      ],
      "metadata": {
        "id": "1nebxyXDG69G"
      }
    },
    {
      "cell_type": "code",
      "source": [
        "arr_true=np.full((3,3),True, dtype=bool)\n",
        "arr_true"
      ],
      "metadata": {
        "colab": {
          "base_uri": "https://localhost:8080/"
        },
        "id": "Jk9jOWkxG5YN",
        "outputId": "cc7f5c88-3afa-4432-c61b-2704e2c7cf64"
      },
      "execution_count": 3,
      "outputs": [
        {
          "output_type": "execute_result",
          "data": {
            "text/plain": [
              "array([[ True,  True,  True],\n",
              "       [ True,  True,  True],\n",
              "       [ True,  True,  True]])"
            ]
          },
          "metadata": {},
          "execution_count": 3
        }
      ]
    },
    {
      "cell_type": "markdown",
      "source": [
        "3. Extract even numbers from an array"
      ],
      "metadata": {
        "id": "9L_izVEbHbfO"
      }
    },
    {
      "cell_type": "code",
      "source": [
        "nums = np.array([0,1,2,3,4,5,6,7,8,9])\n",
        "only_even = nums[nums%2 == 0]\n",
        "only_even"
      ],
      "metadata": {
        "colab": {
          "base_uri": "https://localhost:8080/"
        },
        "id": "Co6vRRLDHOGV",
        "outputId": "db3ef23a-e2a4-4f44-e1c8-3fc4fb0d7d4a"
      },
      "execution_count": 4,
      "outputs": [
        {
          "output_type": "execute_result",
          "data": {
            "text/plain": [
              "array([0, 2, 4, 6, 8])"
            ]
          },
          "metadata": {},
          "execution_count": 4
        }
      ]
    },
    {
      "cell_type": "markdown",
      "source": [
        "4.  replace odd with -89"
      ],
      "metadata": {
        "id": "g_jsopc-H80-"
      }
    },
    {
      "cell_type": "code",
      "source": [
        "nums = np.array([0,1,2,3,4,5,6,7,8,9])"
      ],
      "metadata": {
        "id": "x3bH67VBH3S2"
      },
      "execution_count": 5,
      "outputs": []
    },
    {
      "cell_type": "code",
      "source": [
        "nums[nums%2 != 0] = -89\n",
        "nums"
      ],
      "metadata": {
        "colab": {
          "base_uri": "https://localhost:8080/"
        },
        "id": "fwwdsmnPIHfV",
        "outputId": "84821fcb-8bab-4f3b-81bc-16f01fb93b63"
      },
      "execution_count": 6,
      "outputs": [
        {
          "output_type": "execute_result",
          "data": {
            "text/plain": [
              "array([  0, -89,   2, -89,   4, -89,   6, -89,   8, -89])"
            ]
          },
          "metadata": {},
          "execution_count": 6
        }
      ]
    },
    {
      "cell_type": "markdown",
      "source": [
        "5.  1D to 2D ([2][5])"
      ],
      "metadata": {
        "id": "l36N6cDmIqOG"
      }
    },
    {
      "cell_type": "code",
      "source": [
        "nums = np.array([0,1,2,3,4,5,6,7,8,9])\n",
        "new_2D = nums.reshape((2,5))"
      ],
      "metadata": {
        "id": "P8zjSyuBIgtU"
      },
      "execution_count": 7,
      "outputs": []
    },
    {
      "cell_type": "code",
      "source": [
        "new_2D"
      ],
      "metadata": {
        "colab": {
          "base_uri": "https://localhost:8080/"
        },
        "id": "893CGAmzI9-m",
        "outputId": "fa79fc3c-187f-4d20-a3fd-6670d50e0a73"
      },
      "execution_count": 8,
      "outputs": [
        {
          "output_type": "execute_result",
          "data": {
            "text/plain": [
              "array([[0, 1, 2, 3, 4],\n",
              "       [5, 6, 7, 8, 9]])"
            ]
          },
          "metadata": {},
          "execution_count": 8
        }
      ]
    },
    {
      "cell_type": "code",
      "source": [
        "nums = np.array([0,1,2,3,4,5,6,7,8,9])\n",
        "\n",
        "# Can be done atomatically\n",
        "new_2D = nums.reshape(2,-1)\n",
        "new_2D"
      ],
      "metadata": {
        "colab": {
          "base_uri": "https://localhost:8080/"
        },
        "id": "ez3p5ECDI_EM",
        "outputId": "af68a266-d801-4908-e020-c92dfc203c94"
      },
      "execution_count": 9,
      "outputs": [
        {
          "output_type": "execute_result",
          "data": {
            "text/plain": [
              "array([[0, 1, 2, 3, 4],\n",
              "       [5, 6, 7, 8, 9]])"
            ]
          },
          "metadata": {},
          "execution_count": 9
        }
      ]
    },
    {
      "cell_type": "code",
      "source": [
        "nums = np.array([0,1,2,3,4,5,6,7,8,9,90,91])\n",
        "\n",
        "# Can be done atomatically\n",
        "new_2D = nums.reshape(2,-1)\n",
        "new_2D"
      ],
      "metadata": {
        "colab": {
          "base_uri": "https://localhost:8080/"
        },
        "id": "Nk0TaW11JSw0",
        "outputId": "caefe7dc-f5b4-4dca-9bb1-e4263605451a"
      },
      "execution_count": 11,
      "outputs": [
        {
          "output_type": "execute_result",
          "data": {
            "text/plain": [
              "array([[ 0,  1,  2,  3,  4,  5],\n",
              "       [ 6,  7,  8,  9, 90, 91]])"
            ]
          },
          "metadata": {},
          "execution_count": 11
        }
      ]
    },
    {
      "cell_type": "markdown",
      "source": [
        "6.  Stack two arrays vertically in row"
      ],
      "metadata": {
        "id": "lIL4MomJKD2v"
      }
    },
    {
      "cell_type": "code",
      "source": [
        "# Lets make an array\n",
        "simple_array = np.arange(10).reshape(2,-1)\n",
        "simple_array"
      ],
      "metadata": {
        "colab": {
          "base_uri": "https://localhost:8080/"
        },
        "id": "M01_whmaJWMd",
        "outputId": "aa0bcfd7-4db7-4beb-9701-ff3e8f077776"
      },
      "execution_count": 12,
      "outputs": [
        {
          "output_type": "execute_result",
          "data": {
            "text/plain": [
              "array([[0, 1, 2, 3, 4],\n",
              "       [5, 6, 7, 8, 9]])"
            ]
          },
          "metadata": {},
          "execution_count": 12
        }
      ]
    },
    {
      "cell_type": "code",
      "source": [
        "# another\n",
        "one_array = np.ones((2,5), dtype=int)\n",
        "one_array"
      ],
      "metadata": {
        "colab": {
          "base_uri": "https://localhost:8080/"
        },
        "id": "5qJMOjgMKbT1",
        "outputId": "2eb810c6-5854-4567-986c-5e51ed2c33bd"
      },
      "execution_count": 13,
      "outputs": [
        {
          "output_type": "execute_result",
          "data": {
            "text/plain": [
              "array([[1, 1, 1, 1, 1],\n",
              "       [1, 1, 1, 1, 1]])"
            ]
          },
          "metadata": {},
          "execution_count": 13
        }
      ]
    },
    {
      "cell_type": "code",
      "source": [
        "stacked_v_array = np.vstack((simple_array, one_array))\n",
        "stacked_v_array"
      ],
      "metadata": {
        "colab": {
          "base_uri": "https://localhost:8080/"
        },
        "id": "SLkV4T7rKlwV",
        "outputId": "3c0f8548-4301-4805-e6f7-18b422e3e29e"
      },
      "execution_count": 14,
      "outputs": [
        {
          "output_type": "execute_result",
          "data": {
            "text/plain": [
              "array([[0, 1, 2, 3, 4],\n",
              "       [5, 6, 7, 8, 9],\n",
              "       [1, 1, 1, 1, 1],\n",
              "       [1, 1, 1, 1, 1]])"
            ]
          },
          "metadata": {},
          "execution_count": 14
        }
      ]
    },
    {
      "cell_type": "code",
      "source": [
        "stacked_v_array = np.hstack((simple_array, one_array))\n",
        "stacked_v_array"
      ],
      "metadata": {
        "colab": {
          "base_uri": "https://localhost:8080/"
        },
        "id": "4ELxUtNjKqrE",
        "outputId": "00c61581-ab56-41e5-c4b7-7ffa5bc7366a"
      },
      "execution_count": 15,
      "outputs": [
        {
          "output_type": "execute_result",
          "data": {
            "text/plain": [
              "array([[0, 1, 2, 3, 4, 1, 1, 1, 1, 1],\n",
              "       [5, 6, 7, 8, 9, 1, 1, 1, 1, 1]])"
            ]
          },
          "metadata": {},
          "execution_count": 15
        }
      ]
    },
    {
      "cell_type": "markdown",
      "source": [
        "7. Remove common elements"
      ],
      "metadata": {
        "id": "mInQtWh8LDyH"
      }
    },
    {
      "cell_type": "code",
      "source": [
        "A = np.array([1,2,3,2,3,4,3,4,5,6])\n",
        "B = np.array([7,2,10,2,7,4,9,4,9,8])\n",
        "\n",
        "coomon_elements = np.intersect1d(A,B)\n",
        "coomon_elements"
      ],
      "metadata": {
        "colab": {
          "base_uri": "https://localhost:8080/"
        },
        "id": "bqYiyUSxKxSd",
        "outputId": "f4a56346-7bc3-4365-b9b3-2090a3476a1f"
      },
      "execution_count": 16,
      "outputs": [
        {
          "output_type": "execute_result",
          "data": {
            "text/plain": [
              "array([2, 4])"
            ]
          },
          "metadata": {},
          "execution_count": 16
        }
      ]
    },
    {
      "cell_type": "markdown",
      "source": [
        "8.  Remove common elements from A which are in B"
      ],
      "metadata": {
        "id": "-W8o2B3ULzR_"
      }
    },
    {
      "cell_type": "code",
      "source": [
        "remove_from_A = np.setdiff1d(A,B)\n",
        "remove_from_A"
      ],
      "metadata": {
        "colab": {
          "base_uri": "https://localhost:8080/"
        },
        "id": "ulJuZ8IHLhf1",
        "outputId": "2f290dad-f1df-42d7-91ad-216c707e83de"
      },
      "execution_count": 17,
      "outputs": [
        {
          "output_type": "execute_result",
          "data": {
            "text/plain": [
              "array([1, 3, 5, 6])"
            ]
          },
          "metadata": {},
          "execution_count": 17
        }
      ]
    }
  ]
}