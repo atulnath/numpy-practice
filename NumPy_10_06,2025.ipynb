{
  "nbformat": 4,
  "nbformat_minor": 0,
  "metadata": {
    "colab": {
      "provenance": [],
      "authorship_tag": "ABX9TyPisw4XyEoVQeV42/o5vajq",
      "include_colab_link": true
    },
    "kernelspec": {
      "name": "python3",
      "display_name": "Python 3"
    },
    "language_info": {
      "name": "python"
    }
  },
  "cells": [
    {
      "cell_type": "markdown",
      "metadata": {
        "id": "view-in-github",
        "colab_type": "text"
      },
      "source": [
        "<a href=\"https://colab.research.google.com/github/atulnath/numpy-practice/blob/main/NumPy_10_06%2C2025.ipynb\" target=\"_parent\"><img src=\"https://colab.research.google.com/assets/colab-badge.svg\" alt=\"Open In Colab\"/></a>"
      ]
    },
    {
      "cell_type": "markdown",
      "source": [
        "# N-D Array"
      ],
      "metadata": {
        "id": "EChqUiChUc8O"
      }
    },
    {
      "cell_type": "code",
      "source": [
        "nums = [[y for y in range(y+1,y+5)] for y in range(0,8,4)]\n",
        "\n",
        "nums"
      ],
      "metadata": {
        "colab": {
          "base_uri": "https://localhost:8080/"
        },
        "id": "TjlTSzAEUhMH",
        "outputId": "db4f1516-0f18-4214-82cf-e05bc6cd8fc7"
      },
      "execution_count": 2,
      "outputs": [
        {
          "output_type": "execute_result",
          "data": {
            "text/plain": [
              "[[1, 2, 3, 4], [5, 6, 7, 8]]"
            ]
          },
          "metadata": {},
          "execution_count": 2
        }
      ]
    },
    {
      "cell_type": "code",
      "source": [
        "import numpy as np\n",
        "\n",
        "arr = np.array(nums)\n",
        "print(arr)"
      ],
      "metadata": {
        "colab": {
          "base_uri": "https://localhost:8080/"
        },
        "id": "BtwgGm81V1rx",
        "outputId": "9f1de4f1-cc16-4153-a8ec-b78b7c02ec05"
      },
      "execution_count": 3,
      "outputs": [
        {
          "output_type": "stream",
          "name": "stdout",
          "text": [
            "[[1 2 3 4]\n",
            " [5 6 7 8]]\n"
          ]
        }
      ]
    },
    {
      "cell_type": "markdown",
      "source": [
        "### 3D array making from 2 2D array (3 rows and 4 cols)"
      ],
      "metadata": {
        "id": "vsMLQin3a686"
      }
    },
    {
      "cell_type": "code",
      "source": [
        "newArr = np.array([[[1, 2, 3, 4], #3D array\n",
        " [5, 6, 7, 8],\n",
        " [9, 10, 11, 12]],\n",
        "  [[13, 14, 15, 16],\n",
        " [17, 18, 19, 20],\n",
        " [21, 22, 23, 24]]])\n",
        "\n",
        "print(newArr)"
      ],
      "metadata": {
        "colab": {
          "base_uri": "https://localhost:8080/"
        },
        "id": "iZahQTG_ZYd4",
        "outputId": "24058384-5738-4b38-95c6-3f2731d631d0"
      },
      "execution_count": 6,
      "outputs": [
        {
          "output_type": "stream",
          "name": "stdout",
          "text": [
            "[[[ 1  2  3  4]\n",
            "  [ 5  6  7  8]\n",
            "  [ 9 10 11 12]]\n",
            "\n",
            " [[13 14 15 16]\n",
            "  [17 18 19 20]\n",
            "  [21 22 23 24]]]\n"
          ]
        }
      ]
    },
    {
      "cell_type": "markdown",
      "source": [
        "#Array Creation from Scratch\n",
        "\n",
        "\n",
        "\n",
        "```\n",
        "np.zeros()\n",
        "np.ones()\n",
        "np.arrange()\n",
        "np.random.rand()\n",
        "```\n",
        "\n"
      ],
      "metadata": {
        "id": "Fi8kaaXYbSXv"
      }
    },
    {
      "cell_type": "code",
      "source": [
        "# 0 array of 2 rows and 3 cols\n",
        "\n",
        "print(np.zeros((2,3)))\n",
        "\n",
        "print(np.ones((2,3)))"
      ],
      "metadata": {
        "colab": {
          "base_uri": "https://localhost:8080/"
        },
        "id": "CeZKL0nIbWma",
        "outputId": "1650dc55-5f1d-4b47-a287-6e01f81eac9b"
      },
      "execution_count": 7,
      "outputs": [
        {
          "output_type": "stream",
          "name": "stdout",
          "text": [
            "[[0. 0. 0.]\n",
            " [0. 0. 0.]]\n",
            "[[1. 1. 1.]\n",
            " [1. 1. 1.]]\n"
          ]
        }
      ]
    },
    {
      "cell_type": "code",
      "source": [
        "print(np.zeros((2,2,3)))"
      ],
      "metadata": {
        "colab": {
          "base_uri": "https://localhost:8080/"
        },
        "id": "bRXnbMkJb4Nv",
        "outputId": "d605368d-06ed-4d57-f5cd-a63b62cd2414"
      },
      "execution_count": 8,
      "outputs": [
        {
          "output_type": "stream",
          "name": "stdout",
          "text": [
            "[[[0. 0. 0.]\n",
            "  [0. 0. 0.]]\n",
            "\n",
            " [[0. 0. 0.]\n",
            "  [0. 0. 0.]]]\n"
          ]
        }
      ]
    },
    {
      "cell_type": "markdown",
      "source": [
        "### We can create a N-D array of a specfic value"
      ],
      "metadata": {
        "id": "eIstsegUdl1K"
      }
    },
    {
      "cell_type": "code",
      "source": [
        "num_arr_5 = np.full((2,2),7)\n",
        "print(num_arr_5)"
      ],
      "metadata": {
        "colab": {
          "base_uri": "https://localhost:8080/"
        },
        "id": "U6wpfvHZdvp3",
        "outputId": "73bcf37f-387e-4d58-f3bc-3ed769a04d94"
      },
      "execution_count": 10,
      "outputs": [
        {
          "output_type": "stream",
          "name": "stdout",
          "text": [
            "[[7 7]\n",
            " [7 7]]\n"
          ]
        }
      ]
    },
    {
      "cell_type": "markdown",
      "source": [
        "### Random N-D array"
      ],
      "metadata": {
        "id": "vEuoPUXAd4Ua"
      }
    },
    {
      "cell_type": "code",
      "source": [
        "rand_arr = np.random.rand(2,3)\n",
        "print(rand_arr)"
      ],
      "metadata": {
        "colab": {
          "base_uri": "https://localhost:8080/"
        },
        "id": "LCW_0VdDeC14",
        "outputId": "a4f7a15a-ba5b-4952-b892-d084f1dde1c4"
      },
      "execution_count": 11,
      "outputs": [
        {
          "output_type": "stream",
          "name": "stdout",
          "text": [
            "[[0.4314554  0.34741521 0.38012733]\n",
            " [0.78413349 0.80747726 0.78853819]]\n"
          ]
        }
      ]
    },
    {
      "cell_type": "code",
      "source": [
        "# 3D ramdom array\n",
        "\n",
        "rand_arr_3d = np.random.rand(2,2,3)\n",
        "print(rand_arr_3d)"
      ],
      "metadata": {
        "colab": {
          "base_uri": "https://localhost:8080/"
        },
        "id": "VPe1YopseKTB",
        "outputId": "1b740564-af6b-43d6-ba25-2cd1cd2a4de3"
      },
      "execution_count": 12,
      "outputs": [
        {
          "output_type": "stream",
          "name": "stdout",
          "text": [
            "[[[0.05694794 0.6185712  0.42535835]\n",
            "  [0.74681044 0.44912274 0.36612595]]\n",
            "\n",
            " [[0.5524689  0.001043   0.15952942]\n",
            "  [0.43618938 0.08935102 0.21904968]]]\n"
          ]
        }
      ]
    },
    {
      "cell_type": "markdown",
      "source": [
        "### numpy empty array"
      ],
      "metadata": {
        "id": "xaJ85v0deZfa"
      }
    },
    {
      "cell_type": "code",
      "source": [
        "# Empty are used to later fill up and comes with garbage values\n",
        "empty_arr = np.empty((2,3))\n",
        "print(empty_arr)"
      ],
      "metadata": {
        "colab": {
          "base_uri": "https://localhost:8080/"
        },
        "id": "d_FdG0WPedia",
        "outputId": "bbb008e0-f3e1-4819-f5f6-4d557756e3ca"
      },
      "execution_count": 13,
      "outputs": [
        {
          "output_type": "stream",
          "name": "stdout",
          "text": [
            "[[0.4314554  0.34741521 0.38012733]\n",
            " [0.78413349 0.80747726 0.78853819]]\n"
          ]
        }
      ]
    }
  ]
}