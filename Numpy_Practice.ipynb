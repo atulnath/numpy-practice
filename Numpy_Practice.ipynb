{
  "nbformat": 4,
  "nbformat_minor": 0,
  "metadata": {
    "colab": {
      "provenance": [],
      "authorship_tag": "ABX9TyN0wKzEFeK0Q/gDa8Wz05Wz",
      "include_colab_link": true
    },
    "kernelspec": {
      "name": "python3",
      "display_name": "Python 3"
    },
    "language_info": {
      "name": "python"
    }
  },
  "cells": [
    {
      "cell_type": "markdown",
      "metadata": {
        "id": "view-in-github",
        "colab_type": "text"
      },
      "source": [
        "<a href=\"https://colab.research.google.com/github/atulnath/numpy-practice/blob/main/Numpy_Practice.ipynb\" target=\"_parent\"><img src=\"https://colab.research.google.com/assets/colab-badge.svg\" alt=\"Open In Colab\"/></a>"
      ]
    },
    {
      "cell_type": "markdown",
      "source": [
        "# Importing the Numpy and check version"
      ],
      "metadata": {
        "id": "2GQZh5WlN6o3"
      }
    },
    {
      "cell_type": "code",
      "execution_count": 4,
      "metadata": {
        "colab": {
          "base_uri": "https://localhost:8080/"
        },
        "id": "OuTt_XTVMC3X",
        "outputId": "5f017272-300d-4b33-9c65-43e6e0aab83e"
      },
      "outputs": [
        {
          "output_type": "stream",
          "name": "stdout",
          "text": [
            "2.0.2\n"
          ]
        }
      ],
      "source": [
        "import numpy as np\n",
        "print(np.__version__)"
      ]
    },
    {
      "cell_type": "markdown",
      "source": [
        "# Creating numpy arrays"
      ],
      "metadata": {
        "id": "zbjx7_SkOD3-"
      }
    },
    {
      "cell_type": "code",
      "source": [
        "a = np.array([1,2,3]) # normal array\n",
        "b = np.zeros((2,3)) # 2 rows and 3 cols, filled by 0\n",
        "c=np.ones((3,3)) # 3 rows and 3 cols filled by 1\n",
        "print(\"Value Of A: \",a)\n",
        "print(\"Value Of B:\\n\",b)\n",
        "print(\"Value Of C:\\n\",c)"
      ],
      "metadata": {
        "colab": {
          "base_uri": "https://localhost:8080/"
        },
        "id": "rNcaMhuwOIOl",
        "outputId": "ef59dad2-617e-446c-8b79-9d949a450e42"
      },
      "execution_count": 19,
      "outputs": [
        {
          "output_type": "stream",
          "name": "stdout",
          "text": [
            "Value Of A:  [1 2 3]\n",
            "Value Of B:\n",
            " [[0. 0. 0.]\n",
            " [0. 0. 0.]]\n",
            "Value Of C:\n",
            " [[1. 1. 1.]\n",
            " [1. 1. 1.]\n",
            " [1. 1. 1.]]\n"
          ]
        }
      ]
    },
    {
      "cell_type": "markdown",
      "source": [
        "Eye, arrange, linspace"
      ],
      "metadata": {
        "id": "JJdxGMrmOwXx"
      }
    },
    {
      "cell_type": "code",
      "source": [
        "print(np.eye(4))"
      ],
      "metadata": {
        "colab": {
          "base_uri": "https://localhost:8080/"
        },
        "id": "djgosj2ZO1At",
        "outputId": "06eb6625-73b5-4bad-e227-ae3e26ab3a90"
      },
      "execution_count": 11,
      "outputs": [
        {
          "output_type": "stream",
          "name": "stdout",
          "text": [
            "[[1. 0. 0. 0.]\n",
            " [0. 1. 0. 0.]\n",
            " [0. 0. 1. 0.]\n",
            " [0. 0. 0. 1.]]\n"
          ]
        }
      ]
    },
    {
      "cell_type": "code",
      "source": [
        "print(np.arange(10)) # from 0-9 max: 10"
      ],
      "metadata": {
        "colab": {
          "base_uri": "https://localhost:8080/"
        },
        "id": "ysFfntzsO7Xe",
        "outputId": "84789400-542e-4ca9-f787-4c0e08a3958e"
      },
      "execution_count": 18,
      "outputs": [
        {
          "output_type": "stream",
          "name": "stdout",
          "text": [
            "[0 1 2 3 4 5 6 7 8 9]\n"
          ]
        }
      ]
    },
    {
      "cell_type": "code",
      "source": [
        "print(np.linspace(0,1,6)) # dividing 0-1 in 6 parts"
      ],
      "metadata": {
        "colab": {
          "base_uri": "https://localhost:8080/"
        },
        "id": "hYdnAptjPDj9",
        "outputId": "02e83946-9d90-44c6-eea9-cee34f097cfa"
      },
      "execution_count": 17,
      "outputs": [
        {
          "output_type": "stream",
          "name": "stdout",
          "text": [
            "[0.  0.2 0.4 0.6 0.8 1. ]\n"
          ]
        }
      ]
    },
    {
      "cell_type": "markdown",
      "source": [
        "# Index and slicing"
      ],
      "metadata": {
        "id": "fEtMAruVP1Wn"
      }
    },
    {
      "cell_type": "code",
      "source": [
        "arr = np.array([[10,20,30],[40,50,60]])\n",
        "print(arr[0,1]) # Row 0, col 1"
      ],
      "metadata": {
        "colab": {
          "base_uri": "https://localhost:8080/"
        },
        "id": "GVKWlOZdP8s-",
        "outputId": "7db15667-0f8e-418a-8d63-3c0f07121b38"
      },
      "execution_count": 20,
      "outputs": [
        {
          "output_type": "stream",
          "name": "stdout",
          "text": [
            "20\n"
          ]
        }
      ]
    },
    {
      "cell_type": "code",
      "source": [
        "print(arr[:,1]) # column 1"
      ],
      "metadata": {
        "colab": {
          "base_uri": "https://localhost:8080/"
        },
        "id": "_XEikLjvQVno",
        "outputId": "e43501fb-6985-4c26-9dcc-32352c415937"
      },
      "execution_count": 22,
      "outputs": [
        {
          "output_type": "stream",
          "name": "stdout",
          "text": [
            "[20 50]\n"
          ]
        }
      ]
    },
    {
      "cell_type": "code",
      "source": [
        "print(arr[1,:2]) # row 1 and col 0 and 1"
      ],
      "metadata": {
        "colab": {
          "base_uri": "https://localhost:8080/"
        },
        "id": "uf1E4RqoQiIv",
        "outputId": "8ca15fde-119e-4f51-ccd3-db696ebb53cb"
      },
      "execution_count": 23,
      "outputs": [
        {
          "output_type": "stream",
          "name": "stdout",
          "text": [
            "[40 50]\n"
          ]
        }
      ]
    },
    {
      "cell_type": "markdown",
      "source": [
        "# Array Math and Operations"
      ],
      "metadata": {
        "id": "E8xlcS-TRKi3"
      }
    },
    {
      "cell_type": "code",
      "source": [
        "a = np.array([1,2,3])\n",
        "b = np.array([4,5,6])\n",
        "\n",
        "print(a+b)\n",
        "print(a*b)\n",
        "\n",
        "print(np.dot(a,b)) # 1*4+2*5+3*6 (Row multiply with col)"
      ],
      "metadata": {
        "colab": {
          "base_uri": "https://localhost:8080/"
        },
        "id": "GMjCUAzQRQjF",
        "outputId": "1f1a8f18-3d2d-43d9-9431-3478bd48908d"
      },
      "execution_count": 25,
      "outputs": [
        {
          "output_type": "stream",
          "name": "stdout",
          "text": [
            "[5 7 9]\n",
            "[ 4 10 18]\n",
            "32\n"
          ]
        }
      ]
    },
    {
      "cell_type": "markdown",
      "source": [
        "# Boolean Indexing and Filtering"
      ],
      "metadata": {
        "id": "ZowC5b6rR9hP"
      }
    },
    {
      "cell_type": "code",
      "source": [
        "arr = np.array([1,5,7,9,2])\n",
        "print(arr[arr>5]) # where array element should be less that 5"
      ],
      "metadata": {
        "colab": {
          "base_uri": "https://localhost:8080/"
        },
        "id": "u_t2_VomSB4Y",
        "outputId": "96920938-b960-488f-dab9-a9f6d8515ec7"
      },
      "execution_count": 26,
      "outputs": [
        {
          "output_type": "stream",
          "name": "stdout",
          "text": [
            "[7 9]\n"
          ]
        }
      ]
    },
    {
      "cell_type": "markdown",
      "source": [
        "# Aggregations and statistics"
      ],
      "metadata": {
        "id": "owfMhkwHSdXG"
      }
    },
    {
      "cell_type": "code",
      "source": [
        "a = np.array([[1,2,3],[4,5,6]])\n",
        "print(np.sum(arr))"
      ],
      "metadata": {
        "colab": {
          "base_uri": "https://localhost:8080/"
        },
        "id": "e1GV1NgqSlBV",
        "outputId": "29379c9e-49b8-4258-8cf7-c47af04a1f3d"
      },
      "execution_count": 28,
      "outputs": [
        {
          "output_type": "stream",
          "name": "stdout",
          "text": [
            "24\n"
          ]
        }
      ]
    },
    {
      "cell_type": "code",
      "source": [
        "print(np.mean(arr,axis=0))"
      ],
      "metadata": {
        "colab": {
          "base_uri": "https://localhost:8080/"
        },
        "id": "uJi76mb0S2Nn",
        "outputId": "c3388807-1ed0-4e3a-8b82-e8e5586d2fde"
      },
      "execution_count": 31,
      "outputs": [
        {
          "output_type": "stream",
          "name": "stdout",
          "text": [
            "4.8\n"
          ]
        }
      ]
    },
    {
      "cell_type": "markdown",
      "source": [
        "# Reshape and stack and Spilt"
      ],
      "metadata": {
        "id": "pw5yp8M0TE1u"
      }
    },
    {
      "cell_type": "code",
      "source": [
        "arr = np.arange(12)\n",
        "print(arr)\n",
        "reshaped = arr.reshape((3,4)) # 3 row, 4 col\n",
        "print(reshaped)\n",
        "v_stack = np.vstack([arr, arr]) # stack as a row\n",
        "print(v_stack)\n",
        "h_spilt = np.hsplit(reshaped,2) # stack as a row\n",
        "print(h_spilt)"
      ],
      "metadata": {
        "colab": {
          "base_uri": "https://localhost:8080/"
        },
        "id": "hHLgHkVoTJE_",
        "outputId": "c44dbea1-1dc1-4779-ca68-cc7cad699052"
      },
      "execution_count": 38,
      "outputs": [
        {
          "output_type": "stream",
          "name": "stdout",
          "text": [
            "[ 0  1  2  3  4  5  6  7  8  9 10 11]\n",
            "[[ 0  1  2  3]\n",
            " [ 4  5  6  7]\n",
            " [ 8  9 10 11]]\n",
            "[[ 0  1  2  3  4  5  6  7  8  9 10 11]\n",
            " [ 0  1  2  3  4  5  6  7  8  9 10 11]]\n",
            "[array([[0, 1],\n",
            "       [4, 5],\n",
            "       [8, 9]]), array([[ 2,  3],\n",
            "       [ 6,  7],\n",
            "       [10, 11]])]\n"
          ]
        }
      ]
    }
  ]
}