{
  "nbformat": 4,
  "nbformat_minor": 0,
  "metadata": {
    "colab": {
      "provenance": [],
      "authorship_tag": "ABX9TyPK/u6gyWIyZQltz4QYsJyY",
      "include_colab_link": true
    },
    "kernelspec": {
      "name": "python3",
      "display_name": "Python 3"
    },
    "language_info": {
      "name": "python"
    }
  },
  "cells": [
    {
      "cell_type": "markdown",
      "metadata": {
        "id": "view-in-github",
        "colab_type": "text"
      },
      "source": [
        "<a href=\"https://colab.research.google.com/github/atulnath/numpy-practice/blob/main/numpy_06_07_2025.ipynb\" target=\"_parent\"><img src=\"https://colab.research.google.com/assets/colab-badge.svg\" alt=\"Open In Colab\"/></a>"
      ]
    },
    {
      "cell_type": "code",
      "execution_count": 2,
      "metadata": {
        "id": "LXPDFhh1eghi"
      },
      "outputs": [],
      "source": [
        "import numpy as np\n",
        "A= np.array([1,2,3,2,3,4,3,4,5,6])\n",
        "B = np.array([7,2,10,2,7,4,9,4,9,8])"
      ]
    },
    {
      "cell_type": "markdown",
      "source": [
        "01  Find positions where both array have similar element"
      ],
      "metadata": {
        "id": "rEgSvR1ce-Tb"
      }
    },
    {
      "cell_type": "code",
      "source": [
        "result = np.where(A==B)\n",
        "print(result)"
      ],
      "metadata": {
        "colab": {
          "base_uri": "https://localhost:8080/"
        },
        "id": "ntB1I47XeuT_",
        "outputId": "1c78f49d-c8ca-4ef7-8ea9-2b20c47fa5d2"
      },
      "execution_count": 3,
      "outputs": [
        {
          "output_type": "stream",
          "name": "stdout",
          "text": [
            "(array([1, 3, 5, 7]),)\n"
          ]
        }
      ]
    },
    {
      "cell_type": "markdown",
      "source": [
        "02 Changing column values"
      ],
      "metadata": {
        "id": "FC3_GnTvg7Iz"
      }
    },
    {
      "cell_type": "code",
      "source": [
        "Array_A = np.arange(9).reshape(3,3)\n",
        "Array_A"
      ],
      "metadata": {
        "colab": {
          "base_uri": "https://localhost:8080/"
        },
        "id": "itAKp1byfrL8",
        "outputId": "a6c31c78-b84b-40c2-9a2a-6167109e8a15"
      },
      "execution_count": 5,
      "outputs": [
        {
          "output_type": "execute_result",
          "data": {
            "text/plain": [
              "array([[0, 1, 2],\n",
              "       [3, 4, 5],\n",
              "       [6, 7, 8]])"
            ]
          },
          "metadata": {},
          "execution_count": 5
        }
      ]
    },
    {
      "cell_type": "code",
      "source": [
        "# Changing column with array A\n",
        "\n",
        "Array_A = Array_A[:,[1,0,2]]"
      ],
      "metadata": {
        "id": "gh8tAgFXgVx_"
      },
      "execution_count": 6,
      "outputs": []
    },
    {
      "cell_type": "code",
      "source": [
        "Array_A"
      ],
      "metadata": {
        "colab": {
          "base_uri": "https://localhost:8080/"
        },
        "id": "uu528LYfgxWk",
        "outputId": "d483ce79-6145-404e-e520-32cd030925b5"
      },
      "execution_count": 7,
      "outputs": [
        {
          "output_type": "execute_result",
          "data": {
            "text/plain": [
              "array([[1, 0, 2],\n",
              "       [4, 3, 5],\n",
              "       [7, 6, 8]])"
            ]
          },
          "metadata": {},
          "execution_count": 7
        }
      ]
    },
    {
      "cell_type": "markdown",
      "source": [
        "03 reversing the values of rows in 2D"
      ],
      "metadata": {
        "id": "r2Xl90Z_hGqD"
      }
    },
    {
      "cell_type": "code",
      "source": [
        "Array_A = Array_A[::-1,:]"
      ],
      "metadata": {
        "id": "pE1FRhVpgyUm"
      },
      "execution_count": 8,
      "outputs": []
    },
    {
      "cell_type": "code",
      "source": [
        "Array_A"
      ],
      "metadata": {
        "colab": {
          "base_uri": "https://localhost:8080/"
        },
        "id": "Edfl-FZPhTrG",
        "outputId": "9f537f21-5ff4-4309-9834-46e0cca06031"
      },
      "execution_count": 9,
      "outputs": [
        {
          "output_type": "execute_result",
          "data": {
            "text/plain": [
              "array([[7, 6, 8],\n",
              "       [4, 3, 5],\n",
              "       [1, 0, 2]])"
            ]
          },
          "metadata": {},
          "execution_count": 9
        }
      ]
    },
    {
      "cell_type": "markdown",
      "source": [
        "04 create an array of 2 x 4, random values from 5 to 9"
      ],
      "metadata": {
        "id": "vA4wFw1ThvjM"
      }
    },
    {
      "cell_type": "code",
      "source": [
        "Array_random= np.random.randint(5,10,size=(2,4))\n",
        "Array_random"
      ],
      "metadata": {
        "colab": {
          "base_uri": "https://localhost:8080/"
        },
        "id": "q1rGnDyDhUk8",
        "outputId": "c198566f-dba2-44ac-922b-e982aadd0860"
      },
      "execution_count": 10,
      "outputs": [
        {
          "output_type": "execute_result",
          "data": {
            "text/plain": [
              "array([[9, 8, 8, 9],\n",
              "       [6, 6, 5, 8]])"
            ]
          },
          "metadata": {},
          "execution_count": 10
        }
      ]
    },
    {
      "cell_type": "code",
      "source": [
        "# Another Way in float values\n",
        "Array_random= np.random.uniform(5,10,size=(2,4))\n",
        "Array_random"
      ],
      "metadata": {
        "colab": {
          "base_uri": "https://localhost:8080/"
        },
        "id": "6zhmRAmTiHHt",
        "outputId": "c31d1170-97c1-4a3d-eaba-cff1004920aa"
      },
      "execution_count": 11,
      "outputs": [
        {
          "output_type": "execute_result",
          "data": {
            "text/plain": [
              "array([[6.70084993, 6.25008494, 6.92392508, 7.12499351],\n",
              "       [6.59801522, 6.8286641 , 8.65835922, 7.39154196]])"
            ]
          },
          "metadata": {},
          "execution_count": 11
        }
      ]
    },
    {
      "cell_type": "code",
      "source": [
        "Array_rand_int= np.random.randint(5,10,size=(3,3))\n",
        "Array_rand_int"
      ],
      "metadata": {
        "colab": {
          "base_uri": "https://localhost:8080/"
        },
        "id": "bDZ-Lys3iRXF",
        "outputId": "4ebf7d07-e71d-4ea4-bbcc-b43c4bb9ee6c"
      },
      "execution_count": 12,
      "outputs": [
        {
          "output_type": "execute_result",
          "data": {
            "text/plain": [
              "array([[6, 9, 8],\n",
              "       [7, 7, 8],\n",
              "       [5, 7, 8]])"
            ]
          },
          "metadata": {},
          "execution_count": 12
        }
      ]
    },
    {
      "cell_type": "code",
      "source": [
        "Array_rand_int=Array_rand_int[np.sum(Array_rand_int,axis=1) > 17]"
      ],
      "metadata": {
        "id": "KoBgqIy0i8ut"
      },
      "execution_count": 13,
      "outputs": []
    },
    {
      "cell_type": "code",
      "source": [
        "Array_rand_int"
      ],
      "metadata": {
        "colab": {
          "base_uri": "https://localhost:8080/"
        },
        "id": "CHRaTv2XjcC1",
        "outputId": "2c61c754-ff99-422e-c5c0-3d3b45446202"
      },
      "execution_count": 14,
      "outputs": [
        {
          "output_type": "execute_result",
          "data": {
            "text/plain": [
              "array([[6, 9, 8],\n",
              "       [7, 7, 8],\n",
              "       [5, 7, 8]])"
            ]
          },
          "metadata": {},
          "execution_count": 14
        }
      ]
    },
    {
      "cell_type": "code",
      "source": [
        "Array_rand_int=Array_rand_int[np.sum(Array_rand_int,axis=1) > 19]"
      ],
      "metadata": {
        "id": "88d0dlCzjdMl"
      },
      "execution_count": 15,
      "outputs": []
    },
    {
      "cell_type": "code",
      "source": [
        "Array_rand_int"
      ],
      "metadata": {
        "colab": {
          "base_uri": "https://localhost:8080/"
        },
        "id": "h0eSl0d_jkJs",
        "outputId": "1d07f902-38a6-4383-9b81-eaa628123769"
      },
      "execution_count": 16,
      "outputs": [
        {
          "output_type": "execute_result",
          "data": {
            "text/plain": [
              "array([[6, 9, 8],\n",
              "       [7, 7, 8],\n",
              "       [5, 7, 8]])"
            ]
          },
          "metadata": {},
          "execution_count": 16
        }
      ]
    },
    {
      "cell_type": "markdown",
      "source": [
        "05 Eulidian distance"
      ],
      "metadata": {
        "id": "efG94OgEj1rE"
      }
    },
    {
      "cell_type": "code",
      "source": [
        "A = np.array([1,2,3,4,5])\n",
        "B = np.array([4,5,6,7,8])\n",
        "\n",
        "euclidean_distance = np.linalg.norm(A-B)"
      ],
      "metadata": {
        "id": "04htwxbmjk7M"
      },
      "execution_count": 17,
      "outputs": []
    },
    {
      "cell_type": "code",
      "source": [
        "euclidean_distance"
      ],
      "metadata": {
        "colab": {
          "base_uri": "https://localhost:8080/"
        },
        "id": "8tM0iwBNkXyN",
        "outputId": "f68dafb5-1e42-489e-e639-59a0451895c5"
      },
      "execution_count": 18,
      "outputs": [
        {
          "output_type": "execute_result",
          "data": {
            "text/plain": [
              "np.float64(6.708203932499369)"
            ]
          },
          "metadata": {},
          "execution_count": 18
        }
      ]
    }
  ]
}